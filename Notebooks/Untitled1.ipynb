{
 "cells": [
  {
   "cell_type": "code",
   "execution_count": 4,
   "metadata": {
    "ExecuteTime": {
     "end_time": "2020-03-10T00:15:03.547678Z",
     "start_time": "2020-03-10T00:15:01.569534Z"
    }
   },
   "outputs": [],
   "source": [
    "# Importando os módulos necessários\n",
    "import numpy as np\n",
    "import matplotlib.pyplot as plt\n",
    "from astropy.io import ascii\n",
    "from astropy.coordinates import SkyCoord\n",
    "import astropy.coordinates as coord\n",
    "import astropy.units as u\n",
    "import pandas as pd\n",
    "#Carregando os pacotes necessários\n",
    "from astropy.time import Time\n",
    "import pytz\n",
    "\n",
    "from astroplan import Observer, FixedTarget\n",
    "\n",
    "from IPython.core.interactiveshell import InteractiveShell\n",
    "InteractiveShell.ast_node_interactivity = \"all\"\n",
    "%matplotlib inline\n"
   ]
  },
  {
   "cell_type": "code",
   "execution_count": 5,
   "metadata": {
    "ExecuteTime": {
     "end_time": "2020-03-10T00:15:04.683983Z",
     "start_time": "2020-03-10T00:15:03.549615Z"
    }
   },
   "outputs": [],
   "source": [
    "from astroquery.vizier import Vizier"
   ]
  },
  {
   "cell_type": "code",
   "execution_count": 6,
   "metadata": {
    "ExecuteTime": {
     "end_time": "2020-03-10T00:15:04.691386Z",
     "start_time": "2020-03-10T00:15:04.686804Z"
    }
   },
   "outputs": [],
   "source": [
    "try:\n",
    "    import astroplan\n",
    "except ImportError:\n",
    "    import sys\n",
    "    !{sys.executable} -m pip install astroplan"
   ]
  },
  {
   "cell_type": "code",
   "execution_count": 7,
   "metadata": {
    "ExecuteTime": {
     "end_time": "2020-03-10T00:15:05.155698Z",
     "start_time": "2020-03-10T00:15:05.151277Z"
    }
   },
   "outputs": [],
   "source": [
    "try:\n",
    "    import astroquery\n",
    "except ImportError:\n",
    "    import sys\n",
    "    !{sys.executable} -m pip install astroquery"
   ]
  },
  {
   "cell_type": "code",
   "execution_count": 20,
   "metadata": {
    "ExecuteTime": {
     "end_time": "2020-03-10T00:24:05.123117Z",
     "start_time": "2020-03-10T00:24:05.116283Z"
    }
   },
   "outputs": [],
   "source": [
    "viz = Vizier(keywords=[\"stars\"], columns=[\"_RA2000\",\"_DEC2000\",\"Vmag\"], column_filters={\"Vmag\":\"<10\"})"
   ]
  },
  {
   "cell_type": "code",
   "execution_count": 21,
   "metadata": {
    "ExecuteTime": {
     "end_time": "2020-03-10T00:24:07.197615Z",
     "start_time": "2020-03-10T00:24:07.194075Z"
    }
   },
   "outputs": [
    {
     "name": "stdout",
     "output_type": "stream",
     "text": [
      "<astroquery.vizier.core.VizierClass object at 0x7fc0700bda90>\n"
     ]
    }
   ],
   "source": [
    "print(viz)"
   ]
  },
  {
   "cell_type": "code",
   "execution_count": 16,
   "metadata": {
    "ExecuteTime": {
     "end_time": "2020-03-10T00:22:52.349805Z",
     "start_time": "2020-03-10T00:22:52.345127Z"
    }
   },
   "outputs": [
    {
     "name": "stdout",
     "output_type": "stream",
     "text": [
      "<astroquery.vizier.core.VizierClass object at 0x7fc06fb89a58>\n"
     ]
    }
   ],
   "source": [
    "print(viz)"
   ]
  },
  {
   "cell_type": "code",
   "execution_count": 24,
   "metadata": {
    "ExecuteTime": {
     "end_time": "2020-03-10T00:25:20.416180Z",
     "start_time": "2020-03-10T00:25:20.111988Z"
    }
   },
   "outputs": [
    {
     "name": "stdout",
     "output_type": "stream",
     "text": [
      "TableList with 112 tables:\n",
      "\t'0:I/40/catalog' with 3 column(s) and 1 row(s) \n",
      "\t'1:I/80/n30' with 3 column(s) and 1 row(s) \n",
      "\t'2:I/82/catalog' with 3 column(s) and 1 row(s) \n",
      "\t'3:I/100A/w10' with 3 column(s) and 1 row(s) \n",
      "\t'4:I/100A/w25' with 3 column(s) and 1 row(s) \n",
      "\t'5:I/100A/w50' with 3 column(s) and 5 row(s) \n",
      "\t'6:I/113A/catalog' with 3 column(s) and 1 row(s) \n",
      "\t'7:I/143/fk4_1950' with 3 column(s) and 1 row(s) \n",
      "\t'8:I/239/hip_main' with 3 column(s) and 1 row(s) \n",
      "\t'9:I/239/tyc_main' with 3 column(s) and 1 row(s) \n",
      "\t'10:I/246/act' with 3 column(s) and 1 row(s) \n",
      "\t'11:I/280B/ascc' with 3 column(s) and 1 row(s) \n",
      "\t'12:I/311/hip2' with 3 column(s) and 1 row(s) \n",
      "\t'13:I/328/table1' with 3 column(s) and 1 row(s) \n",
      "\t'14:I/334/w1j00sta' with 3 column(s) and 1 row(s) \n",
      "\t'15:I/334/w2j00sta' with 3 column(s) and 1 row(s) \n",
      "\t'16:I/345/gaia2' with 3 column(s) and 50 row(s) \n",
      "\t'17:I/347/gaia2dis' with 3 column(s) and 50 row(s) \n",
      "\t'18:I/349/starhorse' with 3 column(s) and 19 row(s) \n",
      "\t'19:II/5A/data' with 3 column(s) and 1 row(s) \n",
      "\t'20:II/50/ubv' with 3 column(s) and 1 row(s) \n",
      "\t'21:II/84/catalog' with 3 column(s) and 1 row(s) \n",
      "\t'22:II/338/catalog' with 3 column(s) and 1 row(s) \n",
      "\t'23:II/346/jsdc_v2' with 3 column(s) and 1 row(s) \n",
      "\t'24:II/355/ugriz-2' with 3 column(s) and 1 row(s) \n",
      "\t'25:II/360/catalog' with 3 column(s) and 1 row(s) \n",
      "\t'26:II/361/mdfc-v10' with 3 column(s) and 1 row(s) \n",
      "\t'27:III/39A/catalog' with 3 column(s) and 1 row(s) \n",
      "\t'28:III/135A/catalog' with 3 column(s) and 1 row(s) \n",
      "\t'29:III/193/catalog' with 3 column(s) and 1 row(s) \n",
      "\t'30:III/201/stars' with 3 column(s) and 1 row(s) \n",
      "\t'31:III/252/table8' with 3 column(s) and 1 row(s) \n",
      "\t'32:III/254/crvad2' with 3 column(s) and 1 row(s) \n",
      "\t'33:IV/22/index' with 3 column(s) and 1 row(s) \n",
      "\t'34:IV/25/tyc2_hd' with 3 column(s) and 1 row(s) \n",
      "\t'35:IV/27A/catalog' with 3 column(s) and 1 row(s) \n",
      "\t'36:IV/38/tic' with 3 column(s) and 1 row(s) \n",
      "\t'37:V/14/catalog' with 3 column(s) and 1 row(s) \n",
      "\t'38:V/32A/catalog' with 3 column(s) and 2 row(s) \n",
      "\t'39:V/50/catalog' with 3 column(s) and 1 row(s) \n",
      "\t'40:V/53A/catalog' with 3 column(s) and 1 row(s) \n",
      "\t'41:V/70A/catalog' with 3 column(s) and 2 row(s) \n",
      "\t'42:V/98/msx' with 3 column(s) and 1 row(s) \n",
      "\t'43:V/101/catalog' with 3 column(s) and 2 row(s) \n",
      "\t'44:V/135A/catalog' with 3 column(s) and 1 row(s) \n",
      "\t'45:V/137D/XHIP' with 3 column(s) and 1 row(s) \n",
      "\t'46:V/145/sky2kv5' with 3 column(s) and 1 row(s) \n",
      "\t'47:B/pastel/pastel' with 3 column(s) and 23 row(s) \n",
      "\t'48:J/ApJ/508/397/stars' with 3 column(s) and 2 row(s) \n",
      "\t'49:J/ApJ/571/512/table1' with 3 column(s) and 1 row(s) \n",
      "\t'50:J/ApJ/582/1011/table2' with 3 column(s) and 1 row(s) \n",
      "\t'51:J/ApJ/620/1010/table1' with 3 column(s) and 1 row(s) \n",
      "\t'52:J/ApJ/652/1554/table4' with 3 column(s) and 1 row(s) \n",
      "\t'53:J/ApJ/653/675/table1' with 3 column(s) and 1 row(s) \n",
      "\t'54:J/ApJ/660/1556/table4' with 3 column(s) and 1 row(s) \n",
      "\t'55:J/ApJ/700/1299/table2' with 3 column(s) and 2 row(s) \n",
      "\t'56:J/ApJ/743/138/table5' with 3 column(s) and 1 row(s) \n",
      "\t'57:J/ApJ/753/156/table4' with 3 column(s) and 2 row(s) \n",
      "\t'58:J/ApJ/771/40/table7' with 3 column(s) and 1 row(s) \n",
      "\t'59:J/ApJ/804/146/table5' with 3 column(s) and 1 row(s) \n",
      "\t'60:J/ApJ/808/194/table2' with 3 column(s) and 1 row(s) \n",
      "\t'61:J/ApJ/808/194/table3' with 3 column(s) and 1 row(s) \n",
      "\t'62:J/ApJ/848/11/table1' with 3 column(s) and 1 row(s) \n",
      "\t'63:J/ApJS/111/445/table1' with 3 column(s) and 1 row(s) \n",
      "\t'64:J/ApJS/112/557/table1' with 3 column(s) and 1 row(s) \n",
      "\t'65:J/ApJS/184/138/table3' with 3 column(s) and 1 row(s) \n",
      "\t'66:J/ApJS/199/8/table1' with 3 column(s) and 3 row(s) \n",
      "\t'67:J/ApJS/199/8/table2' with 3 column(s) and 2 row(s) \n",
      "\t'68:J/A+A/281/161/radiostars' with 3 column(s) and 1 row(s) \n",
      "\t'69:J/A+A/281/161/table9' with 3 column(s) and 1 row(s) \n",
      "\t'70:J/A+A/348/897/tablea6' with 3 column(s) and 1 row(s) \n",
      "\t'71:J/A+A/352/555/table1' with 3 column(s) and 1 row(s) \n",
      "\t'72:J/A+A/420/183/table2' with 3 column(s) and 1 row(s) \n",
      "\t'73:J/A+A/420/183/table3' with 3 column(s) and 1 row(s) \n",
      "\t'74:J/A+A/420/507/MWDCat' with 3 column(s) and 1 row(s) \n",
      "\t'75:J/A+A/489/1271/table2' with 3 column(s) and 2 row(s) \n",
      "\t'76:J/A+A/510/A54/table1' with 3 column(s) and 1 row(s) \n",
      "\t'77:J/A+A/531/A143/table1' with 3 column(s) and 1 row(s) \n",
      "\t'78:J/A+A/533/A107/stars' with 3 column(s) and 1 row(s) \n",
      "\t'79:J/A+A/546/A61/tablea1' with 3 column(s) and 1 row(s) \n",
      "\t'80:J/A+A/553/A95/table5' with 3 column(s) and 1 row(s) \n",
      "\t'81:J/A+A/574/A6/systems' with 3 column(s) and 1 row(s) \n",
      "\t'82:J/A+A/574/A6/table3' with 3 column(s) and 1 row(s) \n",
      "\t'83:J/A+A/575/A35/table3' with 3 column(s) and 2 row(s) \n",
      "\t'84:J/A+A/589/A83/table2' with 3 column(s) and 1 row(s) \n",
      "\t'85:J/A+A/629/A139/table3' with 3 column(s) and 1 row(s) \n",
      "\t'86:J/AJ/121/2189/table1' with 3 column(s) and 2 row(s) \n",
      "\t'87:J/AJ/126/2048/table1' with 3 column(s) and 1 row(s) \n",
      "\t'88:J/AJ/138/1681/WD20pc' with 3 column(s) and 1 row(s) \n",
      "\t'89:J/AJ/143/28/iuestars' with 3 column(s) and 1 row(s) \n",
      "\t'90:J/AJ/144/62/table1' with 3 column(s) and 1 row(s) \n",
      "\t'91:J/AJ/144/64/table2' with 3 column(s) and 1 row(s) \n",
      "\t'92:J/AJ/146/68/stars' with 3 column(s) and 1 row(s) \n",
      "\t'93:J/AJ/147/129/table1' with 3 column(s) and 1 row(s) \n",
      "\t'94:J/AJ/147/129/table3' with 3 column(s) and 1 row(s) \n",
      "\t'95:J/AJ/153/95/table3' with 3 column(s) and 1 row(s) \n",
      "\t'96:J/AJ/154/115/table2' with 3 column(s) and 1 row(s) \n",
      "\t'97:J/AJ/158/93/table2' with 3 column(s) and 1 row(s) \n",
      "\t'98:J/AJ/158/122/table1' with 3 column(s) and 1 row(s) \n",
      "\t'99:J/PASP/109/998/table1' with 3 column(s) and 1 row(s) \n",
      "\t'100:J/PASP/119/994/table5' with 3 column(s) and 1 row(s) \n",
      "\t'101:J/PASP/122/885/table1' with 3 column(s) and 1 row(s) \n",
      "\t'102:J/PASP/129/E4501/table1' with 3 column(s) and 1 row(s) \n",
      "\t'103:J/MNRAS/403/1089/table4' with 3 column(s) and 2 row(s) \n",
      "\t'104:J/MNRAS/435/2077/catalog' with 3 column(s) and 1 row(s) \n",
      "\t'105:J/MNRAS/454/2863/table1' with 3 column(s) and 1 row(s) \n",
      "\t'106:J/MNRAS/462/2295/table1' with 3 column(s) and 1 row(s) \n",
      "\t'107:J/MNRAS/465/2849/table2' with 3 column(s) and 1 row(s) \n",
      "\t'108:J/MNRAS/480/2953/cpstars' with 3 column(s) and 1 row(s) \n",
      "\t'109:J/other/JAVSO/42.443/ugriz' with 3 column(s) and 1 row(s) \n",
      "\t'110:J/other/JDSO/15.21/hpms3' with 3 column(s) and 1 row(s) \n",
      "\t'111:J/other/JHA/47.294/margha01' with 3 column(s) and 2 row(s) \n"
     ]
    }
   ],
   "source": [
    "print(viz.query_object(\"sirius\"))"
   ]
  },
  {
   "cell_type": "code",
   "execution_count": null,
   "metadata": {},
   "outputs": [],
   "source": []
  }
 ],
 "metadata": {
  "kernelspec": {
   "display_name": "Python 3",
   "language": "python",
   "name": "python3"
  },
  "language_info": {
   "codemirror_mode": {
    "name": "ipython",
    "version": 3
   },
   "file_extension": ".py",
   "mimetype": "text/x-python",
   "name": "python",
   "nbconvert_exporter": "python",
   "pygments_lexer": "ipython3",
   "version": "3.7.3"
  },
  "latex_envs": {
   "LaTeX_envs_menu_present": true,
   "autoclose": false,
   "autocomplete": true,
   "bibliofile": "biblio.bib",
   "cite_by": "apalike",
   "current_citInitial": 1,
   "eqLabelWithNumbers": true,
   "eqNumInitial": 1,
   "hotkeys": {
    "equation": "Ctrl-E",
    "itemize": "Ctrl-I"
   },
   "labels_anchors": false,
   "latex_user_defs": false,
   "report_style_numbering": false,
   "user_envs_cfg": false
  }
 },
 "nbformat": 4,
 "nbformat_minor": 4
}
